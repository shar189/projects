{
 "cells": [
  {
   "cell_type": "code",
   "execution_count": 7,
   "id": "3ba54a1a-5c98-4420-8447-c34aa6cc7d13",
   "metadata": {},
   "outputs": [],
   "source": [
    "resume = \"\"\" \n",
    "i am student with experience in python machine learning , and data analysis . i have done projects in computer visison and NLP.\n",
    "i am looking for an AI or data science internship.\n",
    "\"\"\"\n"
   ]
  },
  {
   "cell_type": "code",
   "execution_count": 5,
   "id": "79264cc2-5e46-4d63-9da0-e17c48d0f354",
   "metadata": {},
   "outputs": [],
   "source": [
    "internships = [ \n",
    "    {\n",
    "        \"title\": \"AI Intern at TechCorp\",\"skills_required\": [\"machine learning\", \"python\", \"data analysis\"]\n",
    "    },\n",
    "    {\n",
    "        \"title\": \"Web Dev Intern at CodeBase\", \"skills_required\" : [\"html\", \"css\", \"javascript\"]\n",
    "    },\n",
    "    {\n",
    "        \"title\": \"NLP Intern at LangAI\", \"skills_required\": [\"nlp\",\"python\", \"text processing\"]\n",
    "    }\n",
    "]\n"
   ]
  },
  {
   "cell_type": "code",
   "execution_count": 17,
   "id": "e564e10d-4677-49b0-b544-d9d849b7d2d9",
   "metadata": {},
   "outputs": [
    {
     "name": "stdout",
     "output_type": "stream",
     "text": [
      "AI Intern at TechCorp -> Match Score: 3\n",
      "NLP Intern at LangAI -> Match Score: 2\n",
      "Web Dev Intern at CodeBase -> Match Score: 0\n"
     ]
    }
   ],
   "source": [
    "matched =[]\n",
    "for job in internships:\n",
    "    score= 0\n",
    "    for skill in job[\"skills_required\"]:\n",
    "        if skill.lower() in resume.lower():\n",
    "            score+=1\n",
    "    matched.append((job[\"title\"], score))\n",
    "\n",
    "#sort by match score \n",
    "matched.sort(key=lambda x: x[1], reverse= True)\n",
    "\n",
    "# show top matches\n",
    "for job, score in matched:\n",
    "    print(f\"{job} -> Match Score: {score}\")"
   ]
  },
  {
   "cell_type": "code",
   "execution_count": null,
   "id": "52441818-5c5a-402b-ae3b-d5532dd5e3a3",
   "metadata": {},
   "outputs": [],
   "source": []
  }
 ],
 "metadata": {
  "kernelspec": {
   "display_name": "Python [conda env:base] *",
   "language": "python",
   "name": "conda-base-py"
  },
  "language_info": {
   "codemirror_mode": {
    "name": "ipython",
    "version": 3
   },
   "file_extension": ".py",
   "mimetype": "text/x-python",
   "name": "python",
   "nbconvert_exporter": "python",
   "pygments_lexer": "ipython3",
   "version": "3.12.7"
  }
 },
 "nbformat": 4,
 "nbformat_minor": 5
}
