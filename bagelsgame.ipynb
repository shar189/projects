{
 "cells": [
  {
   "cell_type": "code",
   "execution_count": null,
   "id": "c3f14918-74ec-48b7-be07-82e177562ebb",
   "metadata": {},
   "outputs": [
    {
     "name": "stdout",
     "output_type": "stream",
     "text": [
      "Welcome to the Bagels game! Let's play a game of guessing the random number.\n",
      "I am thinking of a 3-digit number with no repeated digits.\n",
      "Try to guess what it is. Here are some clues:\n",
      "When I say:    That means:\n",
      "  Pico         One digit is correct but in the wrong position.\n",
      "  Fermi        One digit is correct and in the right position.\n",
      "  Bagels       No digit is correct.\n",
      "I have thought of a number.\n",
      "You have 10 guesses to get it.\n",
      "Guess #1:\n"
     ]
    },
    {
     "name": "stdin",
     "output_type": "stream",
     "text": [
      ">  5\n"
     ]
    },
    {
     "name": "stdout",
     "output_type": "stream",
     "text": [
      "Guess #1:\n"
     ]
    },
    {
     "name": "stdin",
     "output_type": "stream",
     "text": [
      ">  8\n"
     ]
    },
    {
     "name": "stdout",
     "output_type": "stream",
     "text": [
      "Guess #1:\n"
     ]
    },
    {
     "name": "stdin",
     "output_type": "stream",
     "text": [
      ">  2\n"
     ]
    },
    {
     "name": "stdout",
     "output_type": "stream",
     "text": [
      "Guess #1:\n"
     ]
    },
    {
     "name": "stdin",
     "output_type": "stream",
     "text": [
      ">  123\n"
     ]
    },
    {
     "name": "stdout",
     "output_type": "stream",
     "text": [
      "Pico\n",
      "Guess #2:\n"
     ]
    },
    {
     "name": "stdin",
     "output_type": "stream",
     "text": [
      ">  321\n"
     ]
    },
    {
     "name": "stdout",
     "output_type": "stream",
     "text": [
      "Pico\n",
      "Guess #3:\n"
     ]
    },
    {
     "name": "stdin",
     "output_type": "stream",
     "text": [
      ">  213\n"
     ]
    },
    {
     "name": "stdout",
     "output_type": "stream",
     "text": [
      "Pico\n",
      "Guess #4:\n"
     ]
    },
    {
     "name": "stdin",
     "output_type": "stream",
     "text": [
      ">  312\n"
     ]
    },
    {
     "name": "stdout",
     "output_type": "stream",
     "text": [
      "Pico\n",
      "Guess #5:\n"
     ]
    },
    {
     "name": "stdin",
     "output_type": "stream",
     "text": [
      ">  312\n"
     ]
    },
    {
     "name": "stdout",
     "output_type": "stream",
     "text": [
      "Pico\n",
      "Guess #6:\n"
     ]
    },
    {
     "name": "stdin",
     "output_type": "stream",
     "text": [
      ">  \n"
     ]
    },
    {
     "name": "stdout",
     "output_type": "stream",
     "text": [
      "Guess #6:\n"
     ]
    },
    {
     "name": "stdin",
     "output_type": "stream",
     "text": [
      ">  321\n"
     ]
    },
    {
     "name": "stdout",
     "output_type": "stream",
     "text": [
      "Pico\n",
      "Guess #7:\n"
     ]
    },
    {
     "name": "stdin",
     "output_type": "stream",
     "text": [
      ">  132\n"
     ]
    },
    {
     "name": "stdout",
     "output_type": "stream",
     "text": [
      "Fermi\n",
      "Guess #8:\n"
     ]
    },
    {
     "name": "stdin",
     "output_type": "stream",
     "text": [
      ">  431\n"
     ]
    },
    {
     "name": "stdout",
     "output_type": "stream",
     "text": [
      "Fermi\n",
      "Guess #9:\n"
     ]
    },
    {
     "name": "stdin",
     "output_type": "stream",
     "text": [
      ">  531\n"
     ]
    },
    {
     "name": "stdout",
     "output_type": "stream",
     "text": [
      "Fermi Fermi\n",
      "Guess #10:\n"
     ]
    },
    {
     "name": "stdin",
     "output_type": "stream",
     "text": [
      ">  538\n"
     ]
    },
    {
     "name": "stdout",
     "output_type": "stream",
     "text": [
      "Fermi Fermi\n",
      "You ran out of guesses.\n",
      "The answer was 539.\n",
      "Do you want to play again? (yes or no)\n"
     ]
    }
   ],
   "source": [
    "import random\n",
    "\n",
    "NUM_DIGITS = 3\n",
    "MAX_GUESSES = 10\n",
    "\n",
    "def main():\n",
    "    print(\"Welcome to the Bagels game! Let's play a game of guessing the random number.\")\n",
    "    print(f\"I am thinking of a {NUM_DIGITS}-digit number with no repeated digits.\") \n",
    "    print(\"Try to guess what it is. Here are some clues:\")\n",
    "    print(\"When I say:    That means:\")\n",
    "    print(\"  Pico         One digit is correct but in the wrong position.\")\n",
    "    print(\"  Fermi        One digit is correct and in the right position.\")\n",
    "    print(\"  Bagels       No digit is correct.\")\n",
    "\n",
    "    while True:\n",
    "        secretNum = getSecretNum()\n",
    "        print(\"I have thought of a number.\")\n",
    "        print(f'You have {MAX_GUESSES} guesses to get it.')\n",
    "\n",
    "        numGuesses = 1\n",
    "        while numGuesses <= MAX_GUESSES:\n",
    "            guess = ''\n",
    "            while len(guess) != NUM_DIGITS or not guess.isdecimal():\n",
    "                print(f'Guess #{numGuesses}:')\n",
    "                guess = input('> ')\n",
    "\n",
    "            clues = getClues(guess, secretNum)\n",
    "            print(clues)\n",
    "            numGuesses += 1\n",
    "\n",
    "            if guess == secretNum:\n",
    "                break\n",
    "            if numGuesses > MAX_GUESSES:\n",
    "                print(\"You ran out of guesses.\")\n",
    "                print(f'The answer was {secretNum}.')\n",
    "\n",
    "        print('Do you want to play again? (yes or no)')\n",
    "        if not input('> ').lower().startswith('y'):\n",
    "            break\n",
    "    print('Thanks for playing!')\n",
    "\n",
    "def getSecretNum():\n",
    "    numbers = list('0123456789')\n",
    "    random.shuffle(numbers)\n",
    "    secretNum = ''\n",
    "    for i in range(NUM_DIGITS):\n",
    "        secretNum += str(numbers[i])\n",
    "    return secretNum\n",
    "\n",
    "def getClues(guess, secretNum):\n",
    "    if guess == secretNum:\n",
    "        return 'You got it!'\n",
    "\n",
    "    clues = []\n",
    "\n",
    "    for i in range(len(guess)):\n",
    "        if guess[i] == secretNum[i]:\n",
    "            clues.append('Fermi')\n",
    "        elif guess[i] in secretNum:\n",
    "            clues.append('Pico')\n",
    "\n",
    "    if not clues:\n",
    "        return 'Bagels'\n",
    "    else:\n",
    "        clues.sort()\n",
    "        return ' '.join(clues)\n",
    "\n",
    "\n",
    "if __name__ == '__main__':\n",
    "    main()\n",
    "\n"
   ]
  },
  {
   "cell_type": "code",
   "execution_count": null,
   "id": "2b197db6-2250-404a-84a1-4e676a967a9c",
   "metadata": {},
   "outputs": [],
   "source": []
  }
 ],
 "metadata": {
  "kernelspec": {
   "display_name": "Python [conda env:base] *",
   "language": "python",
   "name": "conda-base-py"
  },
  "language_info": {
   "codemirror_mode": {
    "name": "ipython",
    "version": 3
   },
   "file_extension": ".py",
   "mimetype": "text/x-python",
   "name": "python",
   "nbconvert_exporter": "python",
   "pygments_lexer": "ipython3",
   "version": "3.12.7"
  }
 },
 "nbformat": 4,
 "nbformat_minor": 5
}
